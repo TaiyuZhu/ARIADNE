{
 "cells": [
  {
   "cell_type": "code",
   "execution_count": 1,
   "metadata": {},
   "outputs": [
    {
     "name": "stderr",
     "output_type": "stream",
     "text": [
      "/home/tzhu/miniconda3/envs/llm/lib/python3.10/site-packages/librosa/util/files.py:10: UserWarning: pkg_resources is deprecated as an API. See https://setuptools.pypa.io/en/latest/pkg_resources.html. The pkg_resources package is slated for removal as early as 2025-11-30. Refrain from using this package or pin to Setuptools<81.\n",
      "  from pkg_resources import resource_filename\n",
      "/home/tzhu/miniconda3/envs/llm/lib/python3.10/site-packages/tqdm/auto.py:21: TqdmWarning: IProgress not found. Please update jupyter and ipywidgets. See https://ipywidgets.readthedocs.io/en/stable/user_install.html\n",
      "  from .autonotebook import tqdm as notebook_tqdm\n"
     ]
    }
   ],
   "source": [
    "import torch\n",
    "import nemo.collections.asr as nemo_asr \n",
    "from pathlib import Path\n",
    "\n",
    "from transformers import AutoTokenizer, AutoModelForCausalLM, pipeline,BitsAndBytesConfig\n",
    "BASE_PATH = Path(\"/mnt/sdg/tzhu/llm\")\n",
    "TRANSCRIPT_PATH = f\"{BASE_PATH}/psychs_transcripts\""
   ]
  },
  {
   "cell_type": "code",
   "execution_count": 3,
   "metadata": {},
   "outputs": [],
   "source": [
    "def generate_assessment(prompt, llama_model, llama_tokenizer):\n",
    "    inputs = llama_tokenizer(prompt, return_tensors=\"pt\").to(llama_model.device)\n",
    "    \n",
    "    with torch.no_grad():\n",
    "        outputs = llama_model.generate(\n",
    "            **inputs,\n",
    "            max_new_tokens=500,\n",
    "            # temperature=0.3,\n",
    "            # do_sample=True,\n",
    "            pad_token_id=llama_tokenizer.eos_token_id\n",
    "        )\n",
    "    \n",
    "    # Decode and get only generated part\n",
    "    full_text = llama_tokenizer.decode(outputs[0], skip_special_tokens=True)\n",
    "    assessment = full_text[len(prompt):].strip()\n",
    "    return assessment\n"
   ]
  },
  {
   "cell_type": "code",
   "execution_count": null,
   "metadata": {},
   "outputs": [],
   "source": [
    "# -------- LLaMA 4 Scout 17B-16E --------\n",
    "llama_model_id = \"meta-llama/Llama-4-Scout-17B-16E-Instruct\"\n",
    "\n",
    "llama_local_path = f\"{BASE_PATH}/{llama_model_id}\"\n",
    "\n",
    "llama_tokenizer = AutoTokenizer.from_pretrained(\n",
    "    llama_local_path, \n",
    "    local_files_only=True\n",
    ")\n",
    "\n",
    "max_m = 35\n",
    "llama_model = AutoModelForCausalLM.from_pretrained(\n",
    "    llama_local_path,  \n",
    "    device_map='balanced_low_0',  # Prioritize GPU 0, offload to CPU when needed\n",
    "    max_memory={\n",
    "        0: f\"{max_m}GiB\",  # GPU 0\n",
    "        1: f\"{max_m}GiB\",  # GPU 1  \n",
    "        2: f\"{max_m}GiB\",  # GPU 2\n",
    "        3: f\"{max_m}GiB\",  # GPU 3\n",
    "        4: f\"{max_m}GiB\",  # GPU 4\n",
    "        \"cpu\": \"200GiB\"  # CPU RAM\n",
    "    },\n",
    "    \n",
    "    # quantization_config=bnb_config,\n",
    "    trust_remote_code=True,\n",
    "    torch_dtype=torch.float16,\n",
    "    local_files_only=True  \n",
    ")"
   ]
  },
  {
   "cell_type": "code",
   "execution_count": 2,
   "metadata": {},
   "outputs": [],
   "source": [
    "with open('prompt.txt', 'r') as f:\n",
    "    prompt_template = f.read()\n",
    "    \n",
    "transcript_files = [f for f in Path(TRANSCRIPT_PATH).glob(\"*.txt\") \n",
    "                   if \"prompt\" not in f.name and \"assessment\" not in f.name]\n"
   ]
  },
  {
   "cell_type": "code",
   "execution_count": null,
   "metadata": {},
   "outputs": [],
   "source": [
    "for transcript_file in transcript_files:\n",
    "    # Read transcript\n",
    "    with open(transcript_file, 'r') as f:\n",
    "        transcript = f.read()\n",
    "    \n",
    "    # Create prompt with transcript\n",
    "    prompt = prompt_template.format(transcript=transcript)\n",
    "    \n",
    "    # Generate assessment\n",
    "    print(f\"\\nProcessing: {transcript_file.name}\")\n",
    "    assessment = generate_assessment(prompt, llama_model, llama_tokenizer\n",
    "    )\n",
    "    \n",
    "    # Save assessment\n",
    "    output_file = str(transcript_file).replace('.txt', '_assessment.txt')\n",
    "    with open(f'outputs_score/{output_file}', 'w') as f:\n",
    "        f.write(f\"File: {transcript_file.name}\\n\")\n",
    "        f.write(\"=\"*50 + \"\\n\")\n",
    "        f.write(assessment)\n",
    "    \n",
    "    print(f\"Saved: {output_file}\")\n",
    "\n",
    "    break"
   ]
  },
  {
   "cell_type": "code",
   "execution_count": null,
   "metadata": {},
   "outputs": [],
   "source": []
  }
 ],
 "metadata": {
  "language_info": {
   "name": "python"
  }
 },
 "nbformat": 4,
 "nbformat_minor": 2
}
